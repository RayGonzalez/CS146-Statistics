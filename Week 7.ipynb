{
 "cells": [
  {
   "cell_type": "markdown",
   "metadata": {},
   "source": [
    "### Week 7 Assignment\n",
    "\n",
    "#### Raymundo Gonzalez Leal"
   ]
  },
  {
   "cell_type": "markdown",
   "metadata": {},
   "source": [
    "#### Exercise 28.1. \n",
    "Random variables x come independently from a probability distribution $P(x)$. According to model $H_0$, $P(x)$ is a uniform distribution \n",
    "\n",
    "$ P(x | H_0) = \\frac{1}{2} $      \n",
    "\n",
    "$x ∈ (−1, 1)$\n",
    "\n",
    "\n",
    "According to model $H_1$, $P(x)$ is a nonuniform distribution with an unknown parameter $ m ∈ (-1,1)$:\n",
    "\n",
    "$ P(x | H_1) = \\frac{1}{2}(1+mx) $       \n",
    "\n",
    "$x ∈ (−1, 1)  $\n",
    "\n",
    "Given the data $D = \\{0.3, 0.5, 0.7, 0.8, 0.9\\}$, what is the evidence for $H_0$\n",
    "and $H_1$?\n"
   ]
  },
  {
   "cell_type": "markdown",
   "metadata": {},
   "source": [
    "As H_0 doesn't depend on m, let's just set $P(w | H_0) = 1$ and integrate from 0 to 1\n",
    "\n",
    "$P(D | H_0) = \\int P(D | m, H_0) P(w|H_0) dm = \\int (\\frac{1}{2})^5 dm = 0.03125 $\n",
    "\n",
    "\n",
    "$ P(H_0 | D) = (0.03125) (0.5)$\n",
    "\n",
    "\n",
    "\n",
    "$ P(H_1 | D) = P(D | H_1) P(H_1)$\n",
    "\n",
    "$P(D | H_1) = \\int P(D | m, H_1) P(w|H_1) dm$\n",
    "\n",
    "\n",
    "$P(D | H_1) = \\int_{-1}^1 (\\frac{1}{2})^5(1+0.3m)(1+0.5m)(1+0.7m)(1+0.8m)(1+0.9m)\\frac{1}{2} dm $ \n",
    "\n",
    "Using the dark arts (aka Wolfram Alpha):\n",
    "\n",
    "$P(D | H_1) = 0.077019$\n",
    "$ P(H_1 | D) = 0.077019(0.5)$\n",
    "\n",
    "\n",
    "$\\frac{P(H_1 | D)}{P(H_0 | D)} = \\frac{(0.077019)(0.5)}{(0.03125) (0.5)} = 2.464 $"
   ]
  },
  {
   "cell_type": "markdown",
   "metadata": {},
   "source": [
    "Hence the evidence for $H_1$ is about 2.5 times bigger than the evidence for $H_0$, which indicates that in this case the increased likelihood of this $H_1$ justifies it's addition of an unknown parameter $m$. "
   ]
  }
 ],
 "metadata": {
  "kernelspec": {
   "display_name": "R",
   "language": "R",
   "name": "ir"
  },
  "language_info": {
   "codemirror_mode": "r",
   "file_extension": ".r",
   "mimetype": "text/x-r-source",
   "name": "R",
   "pygments_lexer": "r",
   "version": "3.3.2"
  }
 },
 "nbformat": 4,
 "nbformat_minor": 1
}

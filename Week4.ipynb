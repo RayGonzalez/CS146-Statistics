{
 "cells": [
  {
   "cell_type": "markdown",
   "metadata": {},
   "source": [
    "## Week 4 Assignment\n",
    "\n",
    "### Raymundo Gonzalez Leal"
   ]
  },
  {
   "cell_type": "markdown",
   "metadata": {},
   "source": [
    "### Class 4.1"
   ]
  },
  {
   "cell_type": "markdown",
   "metadata": {},
   "source": [
    "Prove that the inverse-gamma distribution and scaled-inverse-chi-squared distribution are equivalent, except that the parameters of the distributions are defined differently. Show that the two distributions have the same algebraic form in terms of the random variable. What is the relationship between the α and β parameters of the inverse-gamma and the ν and τ parameters of the scaled-inverse-chi-squared distribution?\n",
    "\n"
   ]
  },
  {
   "cell_type": "markdown",
   "metadata": {},
   "source": [
    "### Inverse Gamma\n",
    "\n",
    "$f(x; \\alpha, \\beta) = \\frac{\\beta^\\alpha}{\\Gamma(\\alpha)}x^{-\\alpha-1}e^{-\\frac{\\beta}{x}} = C_1x^{C_2}e^{-\\frac{\\beta}{x}}$\n",
    "\n"
   ]
  },
  {
   "cell_type": "markdown",
   "metadata": {},
   "source": [
    "Where:\n",
    "\n",
    "$C_1 = \\frac{\\beta^\\alpha}{\\Gamma(\\alpha)} $\n",
    "\n",
    "$C_2 = -\\alpha-1 $"
   ]
  },
  {
   "cell_type": "markdown",
   "metadata": {},
   "source": [
    "### Scaled- Inverse-chi-squared"
   ]
  },
  {
   "cell_type": "markdown",
   "metadata": {},
   "source": [
    "\n",
    "$f(x; v, \\tau^2) = \\frac{(\\tau^2v/2)^{v/2}}{\\Gamma(v/2)}  \\frac{e^(\\frac{-v\\tau^2}{2x})}{x^{1+v/2}} = C_3x^{C_4}e^{-\\frac{C_5}{x}}$"
   ]
  },
  {
   "cell_type": "markdown",
   "metadata": {},
   "source": [
    "Where:\n",
    "\n",
    "$C_3 = \\frac{(\\tau^2v/2)^{v/2}}{\\Gamma(v/2)} $\n",
    "\n",
    "$C_4 = -1-v/2 $\n",
    "\n",
    "$C_5 = v\\tau^2/2$"
   ]
  },
  {
   "cell_type": "markdown",
   "metadata": {},
   "source": [
    "### Parameter Relationships"
   ]
  },
  {
   "cell_type": "markdown",
   "metadata": {},
   "source": [
    "If $C_4 = C_2$ then $-\\alpha-1 = -1 - v/2$ and therefore: $\\alpha = v/2$"
   ]
  },
  {
   "cell_type": "markdown",
   "metadata": {},
   "source": [
    "If $C_5 = \\beta $ then $v\\tau^2/2  = \\beta $\n",
    "\n",
    "$\\beta = \\alpha \\tau^2$"
   ]
  },
  {
   "cell_type": "markdown",
   "metadata": {},
   "source": [
    "If we are correct, we should find that $C_1 = C_3$ with our relationships between the parameters:\n",
    "\n",
    "$C_3 =  \\frac{(\\tau^2v/2)^{v/2}}{\\Gamma(v/2)}$"
   ]
  },
  {
   "cell_type": "markdown",
   "metadata": {},
   "source": [
    "Using $\\alpha = v/2$:"
   ]
  },
  {
   "cell_type": "markdown",
   "metadata": {},
   "source": [
    "$C_3 =  \\frac{(\\tau^2\\alpha)^{\\alpha}}{\\Gamma(\\alpha)}$"
   ]
  },
  {
   "cell_type": "markdown",
   "metadata": {},
   "source": [
    "From   $\\beta = \\alpha \\tau^2$  we have $\\alpha = \\frac{\\beta}{\\tau^2}$"
   ]
  },
  {
   "cell_type": "markdown",
   "metadata": {},
   "source": [
    "therefore:\n",
    "\n",
    "$C_3 =  \\frac{(\\tau^2\\frac{\\beta}{\\tau^2})^{\\alpha}}{\\Gamma(\\alpha)} = \\frac{\\beta^\\alpha}{\\Gamma(\\alpha)}  = C_1 $"
   ]
  },
  {
   "cell_type": "markdown",
   "metadata": {},
   "source": [
    "### Class 4.2\n",
    "\n",
    "Calculate the derivatives of the normal-inverse-gamma pdf with respect to its random variables, x and σ² and determine the values of x and σ² (in terms of the distribution parameters μ, λ, α, β) that maximize the pdf.\n"
   ]
  },
  {
   "cell_type": "markdown",
   "metadata": {},
   "source": [
    "$f(x, \\sigma^2; \\alpha, \\beta) = \\frac{\\sqrt{\\lambda}}{\\sigma \\sqrt{2\\pi}} \\frac{\\beta^\\alpha}{\\Gamma(\\alpha)}(\\frac{1}{\\sigma^2})^{\\alpha+1}e^{-\\frac{2\\beta + \\lambda(x-\\mu)^2}{2\\sigma^2}} $"
   ]
  },
  {
   "cell_type": "markdown",
   "metadata": {},
   "source": [
    "The PDF is maximum for the values at which it's partial derivatives equal 0. The partial derivatives of the natural log of the PDF are also 0 at the maximum:"
   ]
  },
  {
   "cell_type": "markdown",
   "metadata": {},
   "source": [
    "$ln(f(x,σ^2;α,β)) = ln(\\frac{\\sqrt{\\lambda}}{\\sigma \\sqrt{2\\pi}} \\frac{\\beta^\\alpha}{\\Gamma(\\alpha)}(\\frac{1}{\\sigma^2})^{\\alpha+1}e^{-\\frac{2\\beta + \\lambda(x-\\mu)^2}{2\\sigma^2}}) = ln(\\frac{\\beta^\\alpha}{\\Gamma(\\alpha)}) + ln(\\frac{\\sqrt{\\lambda}}{\\sigma \\sqrt{2\\pi}}) + (\\alpha+1)ln(\\frac{1}{\\sigma^2}) -\\frac{2\\beta + \\lambda(x-\\mu)^2}{2\\sigma^2} $"
   ]
  },
  {
   "cell_type": "markdown",
   "metadata": {},
   "source": [
    "Using laws of logarithms we can divide our expression into summands, and those that don't include random variables will become 0 when we calculate the derivative\n",
    "\n",
    "$ln(\\frac{\\sqrt{\\lambda}}{\\sigma \\sqrt{2\\pi}}) = ln(\\sqrt\\frac{\\lambda}{2\\pi}) + ln((\\sigma^2)^{-\\frac{1}{2}}) = ln(\\sqrt\\frac{\\lambda}{2\\pi}) +\\frac{1}{2} ln(\\frac{1}{\\sigma^2})  $\n",
    "\n",
    "$ln(f(x,σ^2;α,β)) = ln(\\frac{\\beta^\\alpha}{\\Gamma(\\alpha)}) + ln(\\sqrt\\frac{\\lambda}{2\\pi})  +\\frac{1}{2} ln(\\frac{1}{\\sigma^2}) + (\\alpha+1)ln(\\frac{1}{\\sigma^2}) -\\frac{2\\beta + \\lambda(x-\\mu)^2}{2\\sigma^2}  $\n"
   ]
  },
  {
   "cell_type": "markdown",
   "metadata": {},
   "source": [
    "For the partial derivative with respect to x most of our summands are constants and disappear. To simplify things I will use:\n",
    "\n",
    "$-\\frac{2\\beta + \\lambda(x-\\mu)^2}{2\\sigma^2} = -\\frac{\\beta}{\\sigma^2} - \\frac{\\lambda x^2 - 2x\\lambda \\mu  }{2\\sigma^2} - \\frac{\\lambda \\mu^2}{2\\sigma^2}$\n",
    "\n",
    "This will be useful to get rid of parts of our expression in the partial derivative with respect to x"
   ]
  },
  {
   "cell_type": "markdown",
   "metadata": {},
   "source": [
    "$\\frac{\\delta ln (f(x, \\sigma^2; \\alpha, \\beta) )}{\\delta x} = - \\frac{\\lambda}{2\\sigma^2}(2x-2\\mu)  = 0 $"
   ]
  },
  {
   "cell_type": "markdown",
   "metadata": {
    "collapsed": true
   },
   "source": [
    "$2x - 2\\mu = 0 $\n",
    "\n",
    "$x = \\mu$"
   ]
  },
  {
   "cell_type": "markdown",
   "metadata": {},
   "source": [
    "Now we get the partial derivative of the ln(PDF) with respect to $\\sigma^2$"
   ]
  },
  {
   "cell_type": "markdown",
   "metadata": {},
   "source": [
    "$ln(f(x,σ^2;α,β)) = ln(\\frac{\\beta^\\alpha}{\\Gamma(\\alpha)}) + ln(\\sqrt\\frac{\\lambda}{2\\pi})  +\\frac{1}{2} ln(\\frac{1}{\\sigma^2}) + (\\alpha+1)ln(\\frac{1}{\\sigma^2}) -\\frac{2\\beta + \\lambda(x-\\mu)^2}{2\\sigma^2}  $\n"
   ]
  },
  {
   "cell_type": "markdown",
   "metadata": {},
   "source": [
    "I will need to use:\n",
    "\n",
    "$ \\frac{\\delta}{\\delta \\sigma^2}(-\\frac{2\\beta + \\lambda(x-\\mu)^2}{2 \\sigma^2}) = \\frac{\\delta}{\\delta \\sigma^2}(-(\\sigma^2)^{-1}\\frac{1}{2}(2\\beta + \\lambda(x-\\mu)^2) = -(\\beta + \\frac{\\lambda(x-\\mu)^2}{2})\\frac{\\delta}{\\delta \\sigma^2}((\\sigma^2)^{-1}) $"
   ]
  },
  {
   "cell_type": "markdown",
   "metadata": {},
   "source": [
    "$ \\frac{\\delta}{\\delta \\sigma^2}(-\\frac{2\\beta + \\lambda(x-\\mu)^2}{\\sigma^2}) = (\\beta + \\frac{\\lambda(x-\\mu)^2}{2})(\\sigma^2)^{-2}  $"
   ]
  },
  {
   "cell_type": "markdown",
   "metadata": {},
   "source": [
    "$\\frac{\\delta ln (f(x, \\sigma^2; \\alpha, \\beta) )}{\\delta \\sigma^2} = -\\frac{1}{2\\sigma^2} - \\frac{1}{\\sigma^2}(\\alpha+1) +(\\beta + \\frac{\\lambda(x-\\mu)^2}{2})(\\sigma^2)^{-2} = 0 $"
   ]
  },
  {
   "cell_type": "markdown",
   "metadata": {},
   "source": [
    "We use $x = \\mu$"
   ]
  },
  {
   "cell_type": "markdown",
   "metadata": {},
   "source": [
    "$\\frac{\\delta ln (f(x, \\sigma^2; \\alpha, \\beta) )}{\\delta \\sigma^2} =  -\\frac{1}{2\\sigma^2} - \\frac{1}{\\sigma^2}(\\alpha+1) + \\beta (\\sigma^2)^{-2} = 0$"
   ]
  },
  {
   "cell_type": "markdown",
   "metadata": {},
   "source": [
    "$  \\frac{1}{2}\\sigma^2 + (\\alpha+1)\\sigma^2 = \\beta$"
   ]
  },
  {
   "cell_type": "markdown",
   "metadata": {},
   "source": [
    "$\\sigma^2 (\\alpha + \\frac{3}{2}) = \\beta$"
   ]
  },
  {
   "cell_type": "markdown",
   "metadata": {},
   "source": [
    "$ \\sigma^2 = \\frac{\\sigma^2}{\\alpha + 3/2} $"
   ]
  },
  {
   "cell_type": "markdown",
   "metadata": {},
   "source": [
    "Hence the values that maximize our pdf are:\n",
    "\n",
    "$x = \\mu$\n",
    "\n",
    "$\\sigma^2 = \\frac{\\sigma^2}{\\alpha + 3/2}$"
   ]
  }
 ],
 "metadata": {
  "kernelspec": {
   "display_name": "Python 2",
   "language": "python",
   "name": "python2"
  },
  "language_info": {
   "codemirror_mode": {
    "name": "ipython",
    "version": 2
   },
   "file_extension": ".py",
   "mimetype": "text/x-python",
   "name": "python",
   "nbconvert_exporter": "python",
   "pygments_lexer": "ipython2",
   "version": "2.7.10"
  }
 },
 "nbformat": 4,
 "nbformat_minor": 1
}

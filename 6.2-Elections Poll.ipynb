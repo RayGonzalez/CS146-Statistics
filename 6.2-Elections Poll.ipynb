{
 "cells": [
  {
   "cell_type": "markdown",
   "metadata": {},
   "source": [
    "State    | Clinton (Dem) | Trump (Rep) | Johnson (Lib) | Stein (Grn)\n",
    "--------------------------------------------------------------------\n",
    "Alabama  |        ?      |       ?     |       ?       |      ?   \n",
    "Alaska   |      743      |     780     |     232       |     77\n",
    "Arizona  |     6809      |    7010     |     942       |    244\n",
    "Arkansas |      610      |    1058     |      74       |     35"
   ]
  },
  {
   "cell_type": "code",
   "execution_count": 2,
   "metadata": {
    "collapsed": false
   },
   "outputs": [
    {
     "name": "stderr",
     "output_type": "stream",
     "text": [
      "Loading required package: gtools\n"
     ]
    }
   ],
   "source": [
    "require(gtools)"
   ]
  },
  {
   "cell_type": "code",
   "execution_count": 1,
   "metadata": {
    "collapsed": true
   },
   "outputs": [],
   "source": [
    "alpha_Alaska = c(744,781,233,78)\n",
    "alpha_Arizona = c(6810,7011,943,245)\n",
    "alpha_Arkansas = c(611,1059,75,26)"
   ]
  },
  {
   "cell_type": "markdown",
   "metadata": {},
   "source": [
    "What is the mode of your posterior distribution for each state? "
   ]
  },
  {
   "cell_type": "code",
   "execution_count": 30,
   "metadata": {
    "collapsed": true
   },
   "outputs": [],
   "source": [
    "sample_size = 1000\n",
    "draws_Alaska = rdirichlet(sample_size,alpha_Alaska)\n",
    "draws_Arizona = rdirichlet(sample_size,alpha_Arizona)\n",
    "draws_Arkansas = rdirichlet(sample_size,alpha_Arkansas)"
   ]
  },
  {
   "cell_type": "code",
   "execution_count": 31,
   "metadata": {
    "collapsed": false
   },
   "outputs": [],
   "source": [
    "density_Alaska = ddirichlet(draws_Alaska, alpha_Alaska)\n",
    "density_Arizona = ddirichlet(draws_Arizona, alpha_Arizona)\n",
    "density_Arkansas = ddirichlet(draws_Arkansas, alpha_Arkansas)"
   ]
  },
  {
   "cell_type": "code",
   "execution_count": 32,
   "metadata": {
    "collapsed": false
   },
   "outputs": [],
   "source": [
    "index_Alaska = which.max(density_Alaska)\n",
    "index_Arizona = which.max(density_Arizona)\n",
    "index_Arkansas = which.max(density_Arkansas)"
   ]
  },
  {
   "cell_type": "code",
   "execution_count": 29,
   "metadata": {
    "collapsed": false
   },
   "outputs": [
    {
     "data": {
      "text/html": [
       "<ol class=list-inline>\n",
       "\t<li>0.40466322038705</li>\n",
       "\t<li>0.427432315953777</li>\n",
       "\t<li>0.126376432677241</li>\n",
       "\t<li>0.0415280309819312</li>\n",
       "</ol>\n"
      ],
      "text/latex": [
       "\\begin{enumerate*}\n",
       "\\item 0.40466322038705\n",
       "\\item 0.427432315953777\n",
       "\\item 0.126376432677241\n",
       "\\item 0.0415280309819312\n",
       "\\end{enumerate*}\n"
      ],
      "text/markdown": [
       "1. 0.40466322038705\n",
       "2. 0.427432315953777\n",
       "3. 0.126376432677241\n",
       "4. 0.0415280309819312\n",
       "\n",
       "\n"
      ],
      "text/plain": [
       "[1] 0.40466322 0.42743232 0.12637643 0.04152803"
      ]
     },
     "metadata": {},
     "output_type": "display_data"
    }
   ],
   "source": [
    "mode_Alaska <- c(draws_Alaska[index_Alaska],draws_Alaska[sample_size+index_Alaska],\n",
    "                 draws_Alaska[2*sample_size+index_Alaska],draws_Alaska[3*sample_size+index_Alaska])\n",
    "mode_Alaska"
   ]
  },
  {
   "cell_type": "code",
   "execution_count": 33,
   "metadata": {
    "collapsed": false
   },
   "outputs": [
    {
     "data": {
      "text/html": [
       "<ol class=list-inline>\n",
       "\t<li>0.453790339901795</li>\n",
       "\t<li>0.467077635564454</li>\n",
       "\t<li>0.062775193852494</li>\n",
       "\t<li>0.0163568306812571</li>\n",
       "</ol>\n"
      ],
      "text/latex": [
       "\\begin{enumerate*}\n",
       "\\item 0.453790339901795\n",
       "\\item 0.467077635564454\n",
       "\\item 0.062775193852494\n",
       "\\item 0.0163568306812571\n",
       "\\end{enumerate*}\n"
      ],
      "text/markdown": [
       "1. 0.453790339901795\n",
       "2. 0.467077635564454\n",
       "3. 0.062775193852494\n",
       "4. 0.0163568306812571\n",
       "\n",
       "\n"
      ],
      "text/plain": [
       "[1] 0.45379034 0.46707764 0.06277519 0.01635683"
      ]
     },
     "metadata": {},
     "output_type": "display_data"
    }
   ],
   "source": [
    "mode_Arizona <- c(draws_Arizona[index_Arizona],draws_Arizona[sample_size+index_Arizona],\n",
    "                 draws_Arizona[2*sample_size+index_Arizona],draws_Arizona[3*sample_size+index_Arizona])\n",
    "mode_Arizona"
   ]
  },
  {
   "cell_type": "code",
   "execution_count": 34,
   "metadata": {
    "collapsed": false
   },
   "outputs": [
    {
     "data": {
      "text/html": [
       "<ol class=list-inline>\n",
       "\t<li>0.345121670228693</li>\n",
       "\t<li>0.598355847715326</li>\n",
       "\t<li>0.0425264287591258</li>\n",
       "\t<li>0.0139960532968555</li>\n",
       "</ol>\n"
      ],
      "text/latex": [
       "\\begin{enumerate*}\n",
       "\\item 0.345121670228693\n",
       "\\item 0.598355847715326\n",
       "\\item 0.0425264287591258\n",
       "\\item 0.0139960532968555\n",
       "\\end{enumerate*}\n"
      ],
      "text/markdown": [
       "1. 0.345121670228693\n",
       "2. 0.598355847715326\n",
       "3. 0.0425264287591258\n",
       "4. 0.0139960532968555\n",
       "\n",
       "\n"
      ],
      "text/plain": [
       "[1] 0.34512167 0.59835585 0.04252643 0.01399605"
      ]
     },
     "metadata": {},
     "output_type": "display_data"
    }
   ],
   "source": [
    "mode_Arkansas <- c(draws_Arkansas[index_Arkansas],draws_Arkansas[sample_size+index_Arkansas],\n",
    "                 draws_Arkansas[2*sample_size+index_Arkansas],draws_Arkansas[3*sample_size+index_Arkansas])\n",
    "mode_Arkansas"
   ]
  },
  {
   "cell_type": "code",
   "execution_count": 35,
   "metadata": {
    "collapsed": false
   },
   "outputs": [
    {
     "data": {
      "text/html": [
       "<table>\n",
       "<tbody>\n",
       "\t<tr><td> 65</td></tr>\n",
       "\t<tr><td>113</td></tr>\n",
       "\t<tr><td> 17</td></tr>\n",
       "\t<tr><td>  5</td></tr>\n",
       "</tbody>\n",
       "</table>\n"
      ],
      "text/latex": [
       "\\begin{tabular}{l}\n",
       "\t  65\\\\\n",
       "\t 113\\\\\n",
       "\t  17\\\\\n",
       "\t   5\\\\\n",
       "\\end{tabular}\n"
      ],
      "text/markdown": [
       "\n",
       "|  65 | \n",
       "| 113 | \n",
       "|  17 | \n",
       "|   5 | \n",
       "\n",
       "\n"
      ],
      "text/plain": [
       "     [,1]\n",
       "[1,]  65 \n",
       "[2,] 113 \n",
       "[3,]  17 \n",
       "[4,]   5 "
      ]
     },
     "metadata": {},
     "output_type": "display_data"
    }
   ],
   "source": [
    "rmultinom(1, 200, mode_Arkansas)"
   ]
  },
  {
   "cell_type": "code",
   "execution_count": null,
   "metadata": {
    "collapsed": true
   },
   "outputs": [],
   "source": []
  }
 ],
 "metadata": {
  "kernelspec": {
   "display_name": "R",
   "language": "R",
   "name": "ir"
  },
  "language_info": {
   "codemirror_mode": "r",
   "file_extension": ".r",
   "mimetype": "text/x-r-source",
   "name": "R",
   "pygments_lexer": "r",
   "version": "3.3.2"
  }
 },
 "nbformat": 4,
 "nbformat_minor": 1
}
